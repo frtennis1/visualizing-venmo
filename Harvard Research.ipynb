{
 "cells": [
  {
   "cell_type": "markdown",
   "metadata": {},
   "source": [
    "# Harvard Research\n",
    "\n",
    "Not for the actual project, but ran queries on Harvard metadata out of curiosity."
   ]
  },
  {
   "cell_type": "markdown",
   "metadata": {},
   "source": [
    "## Prepare the data"
   ]
  },
  {
   "cell_type": "code",
   "execution_count": 6,
   "metadata": {},
   "outputs": [],
   "source": [
    "import glob"
   ]
  },
  {
   "cell_type": "code",
   "execution_count": 91,
   "metadata": {},
   "outputs": [
    {
     "data": {
      "text/html": [
       "<div>\n",
       "<style scoped>\n",
       "    .dataframe tbody tr th:only-of-type {\n",
       "        vertical-align: middle;\n",
       "    }\n",
       "\n",
       "    .dataframe tbody tr th {\n",
       "        vertical-align: top;\n",
       "    }\n",
       "\n",
       "    .dataframe thead th {\n",
       "        text-align: right;\n",
       "    }\n",
       "</style>\n",
       "<table border=\"1\" class=\"dataframe\">\n",
       "  <thead>\n",
       "    <tr style=\"text-align: right;\">\n",
       "      <th></th>\n",
       "      <th>Last Name</th>\n",
       "      <th>First Name</th>\n",
       "      <th>Email</th>\n",
       "      <th>Phone</th>\n",
       "      <th>House</th>\n",
       "      <th>Year</th>\n",
       "      <th>Assigned House</th>\n",
       "      <th>name</th>\n",
       "    </tr>\n",
       "  </thead>\n",
       "  <tbody>\n",
       "    <tr>\n",
       "      <th>0</th>\n",
       "      <td>Abdelrahman</td>\n",
       "      <td>Salma</td>\n",
       "      <td>sabdelrahman@college</td>\n",
       "      <td>(305) 606-5141</td>\n",
       "      <td>Eliot</td>\n",
       "      <td>Junior</td>\n",
       "      <td>NaN</td>\n",
       "      <td>Salma Abdelrahman</td>\n",
       "    </tr>\n",
       "    <tr>\n",
       "      <th>1</th>\n",
       "      <td>Abdi</td>\n",
       "      <td>Amal</td>\n",
       "      <td>amal_abdi@college</td>\n",
       "      <td>(614) 599-5209</td>\n",
       "      <td>NaN</td>\n",
       "      <td>Junior</td>\n",
       "      <td>NaN</td>\n",
       "      <td>Amal Abdi</td>\n",
       "    </tr>\n",
       "    <tr>\n",
       "      <th>2</th>\n",
       "      <td>Abrantes</td>\n",
       "      <td>Arthur</td>\n",
       "      <td>aabrantes@college</td>\n",
       "      <td>NaN</td>\n",
       "      <td>NaN</td>\n",
       "      <td>Junior</td>\n",
       "      <td>NaN</td>\n",
       "      <td>Arthur Abrantes</td>\n",
       "    </tr>\n",
       "    <tr>\n",
       "      <th>3</th>\n",
       "      <td>Abu-Suud</td>\n",
       "      <td>Khaled</td>\n",
       "      <td>kabusuud@college</td>\n",
       "      <td>(857) 253-8150</td>\n",
       "      <td>Currier</td>\n",
       "      <td>Junior</td>\n",
       "      <td>NaN</td>\n",
       "      <td>Khaled Abu-Suud</td>\n",
       "    </tr>\n",
       "    <tr>\n",
       "      <th>4</th>\n",
       "      <td>Ackman</td>\n",
       "      <td>Eloise</td>\n",
       "      <td>reackman@college</td>\n",
       "      <td>(646) 596-2355</td>\n",
       "      <td>Mather</td>\n",
       "      <td>Junior</td>\n",
       "      <td>NaN</td>\n",
       "      <td>Eloise Ackman</td>\n",
       "    </tr>\n",
       "  </tbody>\n",
       "</table>\n",
       "</div>"
      ],
      "text/plain": [
       "     Last Name First Name                 Email           Phone    House  \\\n",
       "0  Abdelrahman      Salma  sabdelrahman@college  (305) 606-5141    Eliot   \n",
       "1         Abdi       Amal     amal_abdi@college  (614) 599-5209      NaN   \n",
       "2     Abrantes     Arthur     aabrantes@college             NaN      NaN   \n",
       "3     Abu-Suud     Khaled      kabusuud@college  (857) 253-8150  Currier   \n",
       "4       Ackman     Eloise      reackman@college  (646) 596-2355   Mather   \n",
       "\n",
       "     Year Assigned House               name  \n",
       "0  Junior            NaN  Salma Abdelrahman  \n",
       "1  Junior            NaN          Amal Abdi  \n",
       "2  Junior            NaN    Arthur Abrantes  \n",
       "3  Junior            NaN    Khaled Abu-Suud  \n",
       "4  Junior            NaN      Eloise Ackman  "
      ]
     },
     "execution_count": 91,
     "metadata": {},
     "output_type": "execute_result"
    }
   ],
   "source": [
    "harvard.head()"
   ]
  },
  {
   "cell_type": "code",
   "execution_count": 13,
   "metadata": {},
   "outputs": [],
   "source": [
    "harvard = pd.concat([pd.read_csv(f) for f in glob.glob('data/harvard/*.csv')],\n",
    "                          sort=False) \\\n",
    "    .reset_index(drop=True)\n",
    "harvard['name'] = harvard['First Name'] + ' ' + harvard['Last Name']"
   ]
  },
  {
   "cell_type": "code",
   "execution_count": 116,
   "metadata": {},
   "outputs": [],
   "source": [
    "# Weirdly, Pfoho is encoded in two different ways...\n",
    "harvard.loc[harvard.House == 'Pforzheimer', 'House'] = 'Pfoho'\n",
    "harvard.loc[harvard['Assigned House'] == 'Pforzheimer', 'Assigned House'] = 'Pfoho'"
   ]
  },
  {
   "cell_type": "code",
   "execution_count": 117,
   "metadata": {},
   "outputs": [],
   "source": [
    "transactions = pd.read_csv('data/processed/transactions.csv')\n",
    "users = pd.read_csv('data/processed/users.csv')\n",
    "users = users[users.is_crawled]\n",
    "\n",
    "users = pd.merge(users, harvard, how='left', on='name')\n",
    "\n",
    "transactions = pd.merge(transactions, users.loc[:,('Id', 'Assigned House')], \n",
    "                        left_on='from', right_on='Id') \\\n",
    "    .rename({'Assigned House': 'from_house'}, axis=1)\n",
    "\n",
    "transactions = pd.merge(transactions, users.loc[:,('Id', 'Assigned House')], left_on='to', \n",
    "                        right_on='Id') \\\n",
    "    .rename({'Assigned House': 'to_house'}, axis=1)"
   ]
  },
  {
   "cell_type": "code",
   "execution_count": 118,
   "metadata": {},
   "outputs": [],
   "source": [
    "transactions = pd.merge(transactions, users.loc[:,('Id', 'Year')], \n",
    "                        left_on='from', right_on='Id') \\\n",
    "    .rename({'Year': 'from_year'}, axis=1)\n",
    "\n",
    "transactions = pd.merge(transactions, users.loc[:,('Id', 'Year')], left_on='to', \n",
    "                        right_on='Id') \\\n",
    "    .rename({'Year': 'to_year'}, axis=1)"
   ]
  },
  {
   "cell_type": "markdown",
   "metadata": {},
   "source": [
    "## Run the aggregations\n",
    "\n",
    "### By house"
   ]
  },
  {
   "cell_type": "code",
   "execution_count": 119,
   "metadata": {},
   "outputs": [
    {
     "data": {
      "text/plain": [
       "Index(['Id_x', 'created_time', 'from', 'to', 'message', 'type', 'payment_id',\n",
       "       'permalink', 'via', 'story_id', 'updated_time', 'audience', 'Id_y',\n",
       "       'from_house', 'Id_x', 'to_house', 'Id_y', 'from_year', 'Id', 'to_year'],\n",
       "      dtype='object')"
      ]
     },
     "execution_count": 119,
     "metadata": {},
     "output_type": "execute_result"
    }
   ],
   "source": [
    "transactions.columns"
   ]
  },
  {
   "cell_type": "code",
   "execution_count": 120,
   "metadata": {},
   "outputs": [],
   "source": [
    "house_mat = transactions.groupby(['from_house', 'to_house']).size().unstack()"
   ]
  },
  {
   "cell_type": "code",
   "execution_count": 121,
   "metadata": {},
   "outputs": [
    {
     "data": {
      "text/plain": [
       "same_house\n",
       "False    8489\n",
       "True     8279\n",
       "Name: size, dtype: int64"
      ]
     },
     "execution_count": 121,
     "metadata": {},
     "output_type": "execute_result"
    }
   ],
   "source": [
    "(transactions.groupby(['from_house', 'to_house'])\n",
    "    .size()\n",
    "    .to_frame('size')\n",
    "    .eval('same_house = from_house == to_house')\n",
    "    .groupby('same_house')['size']\n",
    "    .sum())"
   ]
  },
  {
   "cell_type": "code",
   "execution_count": 122,
   "metadata": {},
   "outputs": [
    {
     "data": {
      "text/plain": [
       "Index(['Adams', 'Cabot', 'Currier', 'Dunster', 'Eliot', 'Kirkland', 'Leverett',\n",
       "       'Lowell', 'Mather', 'Pfoho', 'Quincy', 'Winthrop'],\n",
       "      dtype='object', name='from_house')"
      ]
     },
     "execution_count": 122,
     "metadata": {},
     "output_type": "execute_result"
    }
   ],
   "source": [
    "house_mat.index"
   ]
  },
  {
   "cell_type": "code",
   "execution_count": 123,
   "metadata": {},
   "outputs": [],
   "source": [
    "houses = ['Adams', 'Cabot', 'Currier', \n",
    "          'Dunster', 'Eliot', 'Kirkland', \n",
    "          'Leverett', 'Lowell', 'Mather', \n",
    "          'Pfoho', 'Quincy', 'Winthrop']"
   ]
  },
  {
   "cell_type": "code",
   "execution_count": 124,
   "metadata": {},
   "outputs": [
    {
     "name": "stderr",
     "output_type": "stream",
     "text": [
      "/anaconda/envs/py36/lib/python3.6/site-packages/matplotlib/cbook.py:136: MatplotlibDeprecationWarning: The axisbg attribute was deprecated in version 2.0. Use facecolor instead.\n",
      "  warnings.warn(message, mplDeprecation, stacklevel=1)\n"
     ]
    },
    {
     "data": {
      "text/plain": [
       "<seaborn.matrix.ClusterGrid at 0x1472c6908>"
      ]
     },
     "execution_count": 124,
     "metadata": {},
     "output_type": "execute_result"
    },
    {
     "data": {
      "image/png": "[encoded data removed]",
      "text/plain": [
       "<matplotlib.figure.Figure at 0x1472c6dd8>"
      ]
     },
     "metadata": {
      "image/png": {
       "height": 589,
       "width": 603
      }
     },
     "output_type": "display_data"
    }
   ],
   "source": [
    "sns.clustermap(house_mat.loc[houses, houses].fillna(0))"
   ]
  },
  {
   "cell_type": "markdown",
   "metadata": {},
   "source": [
    "### By year"
   ]
  },
  {
   "cell_type": "code",
   "execution_count": 125,
   "metadata": {},
   "outputs": [
    {
     "data": {
      "text/html": [
       "<div>\n",
       "<style scoped>\n",
       "    .dataframe tbody tr th:only-of-type {\n",
       "        vertical-align: middle;\n",
       "    }\n",
       "\n",
       "    .dataframe tbody tr th {\n",
       "        vertical-align: top;\n",
       "    }\n",
       "\n",
       "    .dataframe thead th {\n",
       "        text-align: right;\n",
       "    }\n",
       "</style>\n",
       "<table border=\"1\" class=\"dataframe\">\n",
       "  <thead>\n",
       "    <tr style=\"text-align: right;\">\n",
       "      <th>to_year</th>\n",
       "      <th>Sophomore</th>\n",
       "      <th>Junior</th>\n",
       "      <th>Senior</th>\n",
       "    </tr>\n",
       "    <tr>\n",
       "      <th>from_year</th>\n",
       "      <th></th>\n",
       "      <th></th>\n",
       "      <th></th>\n",
       "    </tr>\n",
       "  </thead>\n",
       "  <tbody>\n",
       "    <tr>\n",
       "      <th>Sophomore</th>\n",
       "      <td>0.546168</td>\n",
       "      <td>0.105156</td>\n",
       "      <td>0.104044</td>\n",
       "    </tr>\n",
       "    <tr>\n",
       "      <th>Junior</th>\n",
       "      <td>0.087246</td>\n",
       "      <td>0.771721</td>\n",
       "      <td>0.207921</td>\n",
       "    </tr>\n",
       "    <tr>\n",
       "      <th>Senior</th>\n",
       "      <td>0.067833</td>\n",
       "      <td>0.182501</td>\n",
       "      <td>1.000000</td>\n",
       "    </tr>\n",
       "  </tbody>\n",
       "</table>\n",
       "</div>"
      ],
      "text/plain": [
       "to_year    Sophomore    Junior    Senior\n",
       "from_year                               \n",
       "Sophomore   0.546168  0.105156  0.104044\n",
       "Junior      0.087246  0.771721  0.207921\n",
       "Senior      0.067833  0.182501  1.000000"
      ]
     },
     "execution_count": 125,
     "metadata": {},
     "output_type": "execute_result"
    }
   ],
   "source": [
    "yr_mat = transactions.groupby(['from_year', 'to_year']).size().unstack()\n",
    "yrs = ['Sophomore', 'Junior', 'Senior']\n",
    "yr_mat.loc[yrs, yrs] / 35956"
   ]
  },
  {
   "cell_type": "code",
   "execution_count": 126,
   "metadata": {},
   "outputs": [
    {
     "name": "stderr",
     "output_type": "stream",
     "text": [
      "/anaconda/envs/py36/lib/python3.6/site-packages/matplotlib/cbook.py:136: MatplotlibDeprecationWarning: The axisbg attribute was deprecated in version 2.0. Use facecolor instead.\n",
      "  warnings.warn(message, mplDeprecation, stacklevel=1)\n"
     ]
    },
    {
     "data": {
      "text/plain": [
       "<seaborn.matrix.ClusterGrid at 0x1472ce518>"
      ]
     },
     "execution_count": 126,
     "metadata": {},
     "output_type": "execute_result"
    },
    {
     "data": {
      "image/png": "[encoded data removed]",
      "text/plain": [
       "<matplotlib.figure.Figure at 0x115cc17b8>"
      ]
     },
     "metadata": {
      "image/png": {
       "height": 589,
       "width": 603
      }
     },
     "output_type": "display_data"
    }
   ],
   "source": [
    "sns.clustermap(yr_mat)"
   ]
  },
  {
   "cell_type": "code",
   "execution_count": 95,
   "metadata": {},
   "outputs": [
    {
     "data": {
      "text/html": [
       "<div>\n",
       "<style scoped>\n",
       "    .dataframe tbody tr th:only-of-type {\n",
       "        vertical-align: middle;\n",
       "    }\n",
       "\n",
       "    .dataframe tbody tr th {\n",
       "        vertical-align: top;\n",
       "    }\n",
       "\n",
       "    .dataframe thead th {\n",
       "        text-align: right;\n",
       "    }\n",
       "</style>\n",
       "<table border=\"1\" class=\"dataframe\">\n",
       "  <thead>\n",
       "    <tr style=\"text-align: right;\">\n",
       "      <th></th>\n",
       "      <th>Last Name</th>\n",
       "      <th>First Name</th>\n",
       "      <th>Email</th>\n",
       "      <th>Phone</th>\n",
       "      <th>House</th>\n",
       "      <th>Year</th>\n",
       "      <th>Assigned House</th>\n",
       "      <th>name</th>\n",
       "    </tr>\n",
       "  </thead>\n",
       "  <tbody>\n",
       "    <tr>\n",
       "      <th>1759</th>\n",
       "      <td>Damle</td>\n",
       "      <td>Rachel</td>\n",
       "      <td>rachel_damle@college</td>\n",
       "      <td>(303) 870-4037</td>\n",
       "      <td>Adams</td>\n",
       "      <td>Sophomore</td>\n",
       "      <td>Adams</td>\n",
       "      <td>Rachel Damle</td>\n",
       "    </tr>\n",
       "    <tr>\n",
       "      <th>1898</th>\n",
       "      <td>Freed</td>\n",
       "      <td>Rachel</td>\n",
       "      <td>rachel_freed@college</td>\n",
       "      <td>(781) 248-4954</td>\n",
       "      <td>Kirkland</td>\n",
       "      <td>Sophomore</td>\n",
       "      <td>Kirkland</td>\n",
       "      <td>Rachel Freed</td>\n",
       "    </tr>\n",
       "    <tr>\n",
       "      <th>2065</th>\n",
       "      <td>Hong</td>\n",
       "      <td>Rachel</td>\n",
       "      <td>rachelhong@college</td>\n",
       "      <td>(858) 492-7370</td>\n",
       "      <td>Leverett</td>\n",
       "      <td>Sophomore</td>\n",
       "      <td>Leverett</td>\n",
       "      <td>Rachel Hong</td>\n",
       "    </tr>\n",
       "    <tr>\n",
       "      <th>2297</th>\n",
       "      <td>Levy</td>\n",
       "      <td>Rachel</td>\n",
       "      <td>rachel_levy@college</td>\n",
       "      <td>NaN</td>\n",
       "      <td>NaN</td>\n",
       "      <td>Sophomore</td>\n",
       "      <td>NaN</td>\n",
       "      <td>Rachel Levy</td>\n",
       "    </tr>\n",
       "    <tr>\n",
       "      <th>2363</th>\n",
       "      <td>Ma</td>\n",
       "      <td>Rachel</td>\n",
       "      <td>rachel_ma@college</td>\n",
       "      <td>(732) 332-0696</td>\n",
       "      <td>Eliot</td>\n",
       "      <td>Sophomore</td>\n",
       "      <td>Eliot</td>\n",
       "      <td>Rachel Ma</td>\n",
       "    </tr>\n",
       "    <tr>\n",
       "      <th>2620</th>\n",
       "      <td>Phan</td>\n",
       "      <td>Rachel</td>\n",
       "      <td>rphan@college</td>\n",
       "      <td>NaN</td>\n",
       "      <td>Eliot</td>\n",
       "      <td>Sophomore</td>\n",
       "      <td>Eliot</td>\n",
       "      <td>Rachel Phan</td>\n",
       "    </tr>\n",
       "    <tr>\n",
       "      <th>2776</th>\n",
       "      <td>Share-Sapolsky</td>\n",
       "      <td>Rachel</td>\n",
       "      <td>rachelsharesapolsky@college</td>\n",
       "      <td>(415) 828-9021</td>\n",
       "      <td>Cabot</td>\n",
       "      <td>Sophomore</td>\n",
       "      <td>Cabot</td>\n",
       "      <td>Rachel Share-Sapolsky</td>\n",
       "    </tr>\n",
       "    <tr>\n",
       "      <th>2813</th>\n",
       "      <td>Slater</td>\n",
       "      <td>Rachel</td>\n",
       "      <td>rachelslater@college</td>\n",
       "      <td>NaN</td>\n",
       "      <td>Cabot</td>\n",
       "      <td>Sophomore</td>\n",
       "      <td>Cabot</td>\n",
       "      <td>Rachel Slater</td>\n",
       "    </tr>\n",
       "  </tbody>\n",
       "</table>\n",
       "</div>"
      ],
      "text/plain": [
       "           Last Name First Name                        Email           Phone  \\\n",
       "1759           Damle     Rachel         rachel_damle@college  (303) 870-4037   \n",
       "1898           Freed     Rachel         rachel_freed@college  (781) 248-4954   \n",
       "2065            Hong     Rachel           rachelhong@college  (858) 492-7370   \n",
       "2297            Levy     Rachel          rachel_levy@college             NaN   \n",
       "2363              Ma     Rachel            rachel_ma@college  (732) 332-0696   \n",
       "2620            Phan     Rachel                rphan@college             NaN   \n",
       "2776  Share-Sapolsky     Rachel  rachelsharesapolsky@college  (415) 828-9021   \n",
       "2813          Slater     Rachel         rachelslater@college             NaN   \n",
       "\n",
       "         House       Year Assigned House                   name  \n",
       "1759     Adams  Sophomore          Adams           Rachel Damle  \n",
       "1898  Kirkland  Sophomore       Kirkland           Rachel Freed  \n",
       "2065  Leverett  Sophomore       Leverett            Rachel Hong  \n",
       "2297       NaN  Sophomore            NaN            Rachel Levy  \n",
       "2363     Eliot  Sophomore          Eliot              Rachel Ma  \n",
       "2620     Eliot  Sophomore          Eliot            Rachel Phan  \n",
       "2776     Cabot  Sophomore          Cabot  Rachel Share-Sapolsky  \n",
       "2813     Cabot  Sophomore          Cabot          Rachel Slater  "
      ]
     },
     "execution_count": 95,
     "metadata": {},
     "output_type": "execute_result"
    }
   ],
   "source": [
    "harvard[(harvard['First Name'] == 'Rachel') & (harvard['Year'] == 'Sophomore')]"
   ]
  },
  {
   "cell_type": "code",
   "execution_count": null,
   "metadata": {},
   "outputs": [],
   "source": []
  }
 ],
 "metadata": {
  "kernelspec": {
   "display_name": "Python 3",
   "language": "python",
   "name": "python3"
  },
  "language_info": {
   "codemirror_mode": {
    "name": "ipython",
    "version": 3
   },
   "file_extension": ".py",
   "mimetype": "text/x-python",
   "name": "python",
   "nbconvert_exporter": "python",
   "pygments_lexer": "ipython3",
   "version": "3.6.1"
  }
 },
 "nbformat": 4,
 "nbformat_minor": 2
}

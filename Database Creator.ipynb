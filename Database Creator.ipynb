{
 "cells": [
  {
   "cell_type": "markdown",
   "metadata": {},
   "source": [
    "# Create db from scraped data"
   ]
  },
  {
   "cell_type": "markdown",
   "metadata": {},
   "source": [
    "## Imports"
   ]
  },
  {
   "cell_type": "code",
   "execution_count": 1,
   "metadata": {},
   "outputs": [],
   "source": [
    "import glob\n",
    "import json\n",
    "import re\n",
    "\n",
    "import networkx as nx\n",
    "from itertools import combinations"
   ]
  },
  {
   "cell_type": "markdown",
   "metadata": {},
   "source": [
    "## Read raw API call files\n",
    "\n",
    "Reads all the stored API call files and compiles them into a more useful DataFrame."
   ]
  },
  {
   "cell_type": "code",
   "execution_count": 18,
   "metadata": {},
   "outputs": [
    {
     "data": {
      "application/vnd.jupyter.widget-view+json": {
       "model_id": "bd1fe3b72c104293890bdaf3152207b3",
       "version_major": 2,
       "version_minor": 0
      },
      "text/html": [
       "<p>Failed to display Jupyter Widget of type <code>HBox</code>.</p>\n",
       "<p>\n",
       "  If you're reading this message in the Jupyter Notebook or JupyterLab Notebook, it may mean\n",
       "  that the widgets JavaScript is still loading. If this message persists, it\n",
       "  likely means that the widgets JavaScript library is either not installed or\n",
       "  not enabled. See the <a href=\"https://ipywidgets.readthedocs.io/en/stable/user_install.html\">Jupyter\n",
       "  Widgets Documentation</a> for setup instructions.\n",
       "</p>\n",
       "<p>\n",
       "  If you're reading this message in another frontend (for example, a static\n",
       "  rendering on GitHub or <a href=\"https://nbviewer.jupyter.org/\">NBViewer</a>),\n",
       "  it may mean that your frontend doesn't currently support widgets.\n",
       "</p>\n"
      ],
      "text/plain": [
       "HBox(children=(IntProgress(value=0, max=30360), HTML(value='')))"
      ]
     },
     "metadata": {},
     "output_type": "display_data"
    },
    {
     "name": "stdout",
     "output_type": "stream",
     "text": [
      "\n",
      "\n"
     ]
    }
   ],
   "source": [
    "user_map = {}\n",
    "transaction_map = {}\n",
    "\n",
    "for f_name in tqdm(glob.glob('data/raw/*.json')):\n",
    "    with open(f_name, 'r') as f:\n",
    "        data = json.load(f)\n",
    "        for entry in data['data']:\n",
    "            actor = entry['actor']\n",
    "            \n",
    "            assert(len(entry['transactions']) == 1)\n",
    "            transaction = entry['transactions'][0]\n",
    "            target = transaction['target']\n",
    "            if (target in ['a phone number', 'an email', None] or\n",
    "                target.get('name') == 'a user on iMessage'):\n",
    "                continue\n",
    "            \n",
    "            # custom entries\n",
    "            entry['from'] = int(actor['id'])\n",
    "            entry['to'] = int(target['id'])\n",
    "\n",
    "            user_map[int(actor['id'])] = actor\n",
    "            user_map[int(target['id'])] = target\n",
    "            transaction_map[entry['story_id']] = entry"
   ]
  },
  {
   "cell_type": "code",
   "execution_count": 19,
   "metadata": {},
   "outputs": [],
   "source": [
    "crawled_files = glob.glob('data/raw/*.json')\n",
    "crawled_users = set([int(re.match('data/raw/([0-9]*)-[0-9]{3}[.]json', fname).groups()[0]) \n",
    "                     for fname in crawled_files])\n",
    "del crawled_files"
   ]
  },
  {
   "cell_type": "code",
   "execution_count": 87,
   "metadata": {},
   "outputs": [],
   "source": [
    "transactions = pd.DataFrame().from_dict(transaction_map, orient='index')[[\n",
    "     'created_time',\n",
    "     'from',\n",
    "     'to',\n",
    "     'message',\n",
    "     'type',\n",
    "     'payment_id',\n",
    "     'permalink',\n",
    "     'via',\n",
    "     'story_id',\n",
    "     'updated_time',\n",
    "     'audience',\n",
    "]]\n",
    "transactions['created_time'] = pd.to_datetime(transactions.created_time)\n",
    "transactions['updated_time'] = pd.to_datetime(transactions.updated_time)\n",
    "\n",
    "users = pd.DataFrame().from_dict(user_map, orient='index')[[\n",
    "    'username',\n",
    "     'name',\n",
    "     'firstname',\n",
    "     'lastname',\n",
    "     'date_created',\n",
    "     'cancelled',\n",
    "     'external_id',\n",
    "     'is_business',\n",
    "     'picture',\n",
    "]]\n",
    "users['date_created'] = pd.to_datetime(users.date_created)\n",
    "\n",
    "users.loc[crawled_users,'is_crawled'] = True\n",
    "users.is_crawled.fillna(False, inplace=True)\n",
    "\n",
    "transactions.to_csv('data/processed/transactions.csv', index_label='Id')\n",
    "users.to_csv('data/processed/users.csv', index_label='Id')"
   ]
  },
  {
   "cell_type": "code",
   "execution_count": 86,
   "metadata": {},
   "outputs": [],
   "source": [
    "# save full dataset\n",
    "transactions.to_csv('site/data/transactions.csv', index_label='Id')\n",
    "users.to_csv('site/data/users.csv', index_label='Id')"
   ]
  },
  {
   "cell_type": "code",
   "execution_count": 85,
   "metadata": {},
   "outputs": [],
   "source": [
    "# save filtered dataset\n",
    "users.query('is_crawled').to_csv('site/data/users.csv', index_label='Id')\n",
    "crawled_ids = set(users.query('is_crawled').index)\n",
    "\n",
    "transactions[transactions['from'].isin(crawled_ids) & \n",
    "             transactions['to'].isin(crawled_ids)].to_csv('site/data/transactions.csv', index_label='Id')"
   ]
  },
  {
   "cell_type": "markdown",
   "metadata": {},
   "source": [
    "## Figure out new IDs to crawl"
   ]
  },
  {
   "cell_type": "code",
   "execution_count": 21,
   "metadata": {},
   "outputs": [],
   "source": [
    "harvard_names = pd.concat([pd.read_csv(f) for f in glob.glob('data/harvard/*.csv')],\n",
    "                          sort=False) \\\n",
    "    .reset_index(drop=True)"
   ]
  },
  {
   "cell_type": "code",
   "execution_count": 22,
   "metadata": {},
   "outputs": [],
   "source": [
    "harvard_names['name'] = harvard_names['First Name'] + ' ' + harvard_names['Last Name']"
   ]
  },
  {
   "cell_type": "code",
   "execution_count": 23,
   "metadata": {},
   "outputs": [
    {
     "data": {
      "text/plain": [
       "4681"
      ]
     },
     "execution_count": 23,
     "metadata": {},
     "output_type": "execute_result"
    }
   ],
   "source": [
    "len(harvard_names)"
   ]
  },
  {
   "cell_type": "code",
   "execution_count": 24,
   "metadata": {},
   "outputs": [
    {
     "data": {
      "text/plain": [
       "4659"
      ]
     },
     "execution_count": 24,
     "metadata": {},
     "output_type": "execute_result"
    }
   ],
   "source": [
    "len(harvard_names.name.unique())"
   ]
  },
  {
   "cell_type": "code",
   "execution_count": 25,
   "metadata": {},
   "outputs": [
    {
     "data": {
      "text/plain": [
       "3571"
      ]
     },
     "execution_count": 25,
     "metadata": {},
     "output_type": "execute_result"
    }
   ],
   "source": [
    "len(users.query('is_crawled').name.unique())"
   ]
  },
  {
   "cell_type": "code",
   "execution_count": 26,
   "metadata": {},
   "outputs": [
    {
     "data": {
      "text/plain": [
       "3926"
      ]
     },
     "execution_count": 26,
     "metadata": {},
     "output_type": "execute_result"
    }
   ],
   "source": [
    "len(crawled_users)"
   ]
  },
  {
   "cell_type": "code",
   "execution_count": 37,
   "metadata": {},
   "outputs": [
    {
     "data": {
      "text/plain": [
       "381613"
      ]
     },
     "execution_count": 37,
     "metadata": {},
     "output_type": "execute_result"
    }
   ],
   "source": [
    "len(transactions)"
   ]
  },
  {
   "cell_type": "code",
   "execution_count": 27,
   "metadata": {},
   "outputs": [],
   "source": [
    "prominence = transactions.groupby('from').size().add(transactions.groupby('to').size(), fill_value=0)"
   ]
  },
  {
   "cell_type": "code",
   "execution_count": 28,
   "metadata": {},
   "outputs": [],
   "source": [
    "to_crawl = users.loc[list(prominence[users.name.isin(harvard_names.name) & \n",
    "                       (~prominence.index.isin(crawled_users))]\n",
    "    .sort_values(ascending=False).index),:]"
   ]
  },
  {
   "cell_type": "code",
   "execution_count": 29,
   "metadata": {},
   "outputs": [],
   "source": [
    "to_crawl_ids = list(to_crawl.index)"
   ]
  },
  {
   "cell_type": "markdown",
   "metadata": {},
   "source": [
    "Store this list of values to crawl to hand off to the crawling notebook."
   ]
  },
  {
   "cell_type": "code",
   "execution_count": 30,
   "metadata": {},
   "outputs": [
    {
     "name": "stdout",
     "output_type": "stream",
     "text": [
      "Stored 'to_crawl_ids' (list)\n"
     ]
    }
   ],
   "source": [
    "%store to_crawl_ids"
   ]
  },
  {
   "cell_type": "code",
   "execution_count": 31,
   "metadata": {},
   "outputs": [
    {
     "data": {
      "text/plain": [
       "212"
      ]
     },
     "execution_count": 31,
     "metadata": {},
     "output_type": "execute_result"
    }
   ],
   "source": [
    "len(to_crawl)"
   ]
  },
  {
   "cell_type": "code",
   "execution_count": 33,
   "metadata": {},
   "outputs": [
    {
     "data": {
      "text/plain": [
       "133"
      ]
     },
     "execution_count": 33,
     "metadata": {},
     "output_type": "execute_result"
    }
   ],
   "source": [
    "len(to_crawl.name.unique())"
   ]
  },
  {
   "cell_type": "code",
   "execution_count": 428,
   "metadata": {},
   "outputs": [
    {
     "data": {
      "text/plain": [
       "3379"
      ]
     },
     "execution_count": 428,
     "metadata": {},
     "output_type": "execute_result"
    }
   ],
   "source": [
    "len(harvard_names)"
   ]
  },
  {
   "cell_type": "markdown",
   "metadata": {},
   "source": [
    "## Inspect and play around with the data"
   ]
  },
  {
   "cell_type": "code",
   "execution_count": 77,
   "metadata": {},
   "outputs": [
    {
     "data": {
      "text/plain": [
       "[]"
      ]
     },
     "execution_count": 77,
     "metadata": {},
     "output_type": "execute_result"
    },
    {
     "data": {
      "image/png": "[encoded data removed]",
      "text/plain": [
       "<matplotlib.figure.Figure at 0x1270f5f60>"
      ]
     },
     "metadata": {
      "image/png": {
       "height": 280,
       "width": 429
      }
     },
     "output_type": "display_data"
    }
   ],
   "source": [
    "name = 'Rachel Share-Sapolsky'\n",
    "u_id = users[users.name == name].index[0]\n",
    "user_transacts = transactions[(transactions['from'] == u_id) | \n",
    "                              (transactions.to == u_id)]\n",
    "\n",
    "counts = (user_transacts['from']\n",
    "    .where(user_transacts['from'] != u_id, user_transacts.to)\n",
    "    .to_frame('other')\n",
    "    .groupby('other')\n",
    "    .size())\n",
    "\n",
    "(pd.concat([counts.to_frame('count'), users.name], axis=1)\n",
    "    .sort_values('count', ascending=True)\n",
    "    .dropna()\n",
    "    .set_index('name')\n",
    "    .iloc[-10:]\n",
    "    .plot\n",
    "    .barh())\n",
    "\n",
    "plt.grid()\n",
    "plt.legend()\n",
    "ft_ax(title=\"%s's Venmo transactions\" % name, subtitle='As of 2018-08-04', y=1.1, left_axis=True)"
   ]
  },
  {
   "cell_type": "code",
   "execution_count": 76,
   "metadata": {},
   "outputs": [
    {
     "data": {
      "text/html": [
       "<div>\n",
       "<style scoped>\n",
       "    .dataframe tbody tr th:only-of-type {\n",
       "        vertical-align: middle;\n",
       "    }\n",
       "\n",
       "    .dataframe tbody tr th {\n",
       "        vertical-align: top;\n",
       "    }\n",
       "\n",
       "    .dataframe thead th {\n",
       "        text-align: right;\n",
       "    }\n",
       "</style>\n",
       "<table border=\"1\" class=\"dataframe\">\n",
       "  <thead>\n",
       "    <tr style=\"text-align: right;\">\n",
       "      <th></th>\n",
       "      <th>created_time</th>\n",
       "      <th>message</th>\n",
       "      <th>from_name</th>\n",
       "      <th>to_name</th>\n",
       "    </tr>\n",
       "  </thead>\n",
       "  <tbody>\n",
       "    <tr>\n",
       "      <th>56d8b7dbcd03c9af22178511</th>\n",
       "      <td>2016-03-03 22:16:59</td>\n",
       "      <td>keychange🔑</td>\n",
       "      <td>Elana Shen</td>\n",
       "      <td>Gen Lefevre</td>\n",
       "    </tr>\n",
       "    <tr>\n",
       "      <th>56da498fcd03c9af2234ba8b</th>\n",
       "      <td>2016-03-05 02:50:55</td>\n",
       "      <td>pizza pizza 🍕</td>\n",
       "      <td>Elana Shen</td>\n",
       "      <td>Leah Daniel</td>\n",
       "    </tr>\n",
       "    <tr>\n",
       "      <th>570d775bcd03c9af228f366e</th>\n",
       "      <td>2016-04-12 22:31:55</td>\n",
       "      <td>♻️🚯☃🔮🕳↪️🔀</td>\n",
       "      <td>Elana Shen</td>\n",
       "      <td>Leah Daniel</td>\n",
       "    </tr>\n",
       "    <tr>\n",
       "      <th>572d54d6cd03c9af22d62462</th>\n",
       "      <td>2016-05-07 02:37:10</td>\n",
       "      <td>love and friendship</td>\n",
       "      <td>Elana Shen</td>\n",
       "      <td>Leah Daniel</td>\n",
       "    </tr>\n",
       "    <tr>\n",
       "      <th>573325c6cd03c9af22382524</th>\n",
       "      <td>2016-05-11 12:29:58</td>\n",
       "      <td>tissues</td>\n",
       "      <td>Elana Shen</td>\n",
       "      <td>Leah Daniel</td>\n",
       "    </tr>\n",
       "    <tr>\n",
       "      <th>589ff48723e064eac05e01e1</th>\n",
       "      <td>2017-02-12 05:37:11</td>\n",
       "      <td>cookie cream</td>\n",
       "      <td>Elana Shen</td>\n",
       "      <td>Leah Daniel</td>\n",
       "    </tr>\n",
       "    <tr>\n",
       "      <th>59121002a385c7e9b5f12288</th>\n",
       "      <td>2017-05-09 18:52:50</td>\n",
       "      <td>stunted</td>\n",
       "      <td>Elana Shen</td>\n",
       "      <td>Leah Daniel</td>\n",
       "    </tr>\n",
       "    <tr>\n",
       "      <th>56f9913dcd03c9af22274735</th>\n",
       "      <td>2016-03-28 20:17:01</td>\n",
       "      <td>🎫</td>\n",
       "      <td>Elana Shen</td>\n",
       "      <td>Harvard Korean Association</td>\n",
       "    </tr>\n",
       "    <tr>\n",
       "      <th>572815a9cd03c9af227385a0</th>\n",
       "      <td>2016-05-03 03:06:17</td>\n",
       "      <td>formal</td>\n",
       "      <td>Elana Shen</td>\n",
       "      <td>Kirkland HoCo</td>\n",
       "    </tr>\n",
       "    <tr>\n",
       "      <th>576610d8cd03c9af22adb8a3</th>\n",
       "      <td>2016-06-19 03:26:16</td>\n",
       "      <td>hanging out without @phong1</td>\n",
       "      <td>Elana Shen</td>\n",
       "      <td>Angie Rao</td>\n",
       "    </tr>\n",
       "    <tr>\n",
       "      <th>598547fd5a877f6e3891700c</th>\n",
       "      <td>2017-08-05 04:22:21</td>\n",
       "      <td>uber</td>\n",
       "      <td>Elana Shen</td>\n",
       "      <td>Angie Rao</td>\n",
       "    </tr>\n",
       "    <tr>\n",
       "      <th>59c7c72e5a877f6e381cd470</th>\n",
       "      <td>2017-09-24 14:54:38</td>\n",
       "      <td>fud</td>\n",
       "      <td>Elana Shen</td>\n",
       "      <td>Angie Rao</td>\n",
       "    </tr>\n",
       "    <tr>\n",
       "      <th>59c7c7305a877f6e381d0e9c</th>\n",
       "      <td>2017-09-24 14:54:40</td>\n",
       "      <td>uber</td>\n",
       "      <td>Elana Shen</td>\n",
       "      <td>Angie Rao</td>\n",
       "    </tr>\n",
       "    <tr>\n",
       "      <th>577095c023e064eac05a71ac</th>\n",
       "      <td>2016-06-27 02:56:00</td>\n",
       "      <td>friendship</td>\n",
       "      <td>Elana Shen</td>\n",
       "      <td>Brandon Rabaria</td>\n",
       "    </tr>\n",
       "    <tr>\n",
       "      <th>57bdf80623e064eac02388cf</th>\n",
       "      <td>2016-08-24 19:39:50</td>\n",
       "      <td>friendship is forever</td>\n",
       "      <td>Elana Shen</td>\n",
       "      <td>Brandon Rabaria</td>\n",
       "    </tr>\n",
       "    <tr>\n",
       "      <th>582fdbaa23e064eac02dc879</th>\n",
       "      <td>2016-11-19 04:57:14</td>\n",
       "      <td>🍕</td>\n",
       "      <td>Elana Shen</td>\n",
       "      <td>Brandon Rabaria</td>\n",
       "    </tr>\n",
       "    <tr>\n",
       "      <th>58770a5623e064eac080be92</th>\n",
       "      <td>2017-01-12 04:47:18</td>\n",
       "      <td>i love car alarms!!</td>\n",
       "      <td>Elana Shen</td>\n",
       "      <td>Brandon Rabaria</td>\n",
       "    </tr>\n",
       "    <tr>\n",
       "      <th>5877d48f23e064eac08df397</th>\n",
       "      <td>2017-01-12 19:10:07</td>\n",
       "      <td>uber</td>\n",
       "      <td>Elana Shen</td>\n",
       "      <td>Brandon Rabaria</td>\n",
       "    </tr>\n",
       "    <tr>\n",
       "      <th>5a49542b5a877f6e382d43dc</th>\n",
       "      <td>2017-12-31 21:18:35</td>\n",
       "      <td>stacks</td>\n",
       "      <td>Elana Shen</td>\n",
       "      <td>Brandon Rabaria</td>\n",
       "    </tr>\n",
       "    <tr>\n",
       "      <th>5b11db7a5a877f6e383e9373</th>\n",
       "      <td>2018-06-01 23:49:14</td>\n",
       "      <td>booba balls</td>\n",
       "      <td>Elana Shen</td>\n",
       "      <td>Brandon Rabaria</td>\n",
       "    </tr>\n",
       "    <tr>\n",
       "      <th>5774604223e064eac0994d66</th>\n",
       "      <td>2016-06-29 23:56:49</td>\n",
       "      <td>😀</td>\n",
       "      <td>Elana Shen</td>\n",
       "      <td>Jenny Lee</td>\n",
       "    </tr>\n",
       "    <tr>\n",
       "      <th>5775d1a323e064eac0b72eae</th>\n",
       "      <td>2016-07-01 02:12:51</td>\n",
       "      <td>u know</td>\n",
       "      <td>Elana Shen</td>\n",
       "      <td>Priyanka Takle</td>\n",
       "    </tr>\n",
       "    <tr>\n",
       "      <th>578c2f3323e064eac06a7dbe</th>\n",
       "      <td>2016-07-18 01:21:55</td>\n",
       "      <td>⛳️</td>\n",
       "      <td>Elana Shen</td>\n",
       "      <td>Priyanka Takle</td>\n",
       "    </tr>\n",
       "    <tr>\n",
       "      <th>596a515f5a877f6e381a26c1</th>\n",
       "      <td>2017-07-15 17:31:11</td>\n",
       "      <td>ubes</td>\n",
       "      <td>Elana Shen</td>\n",
       "      <td>Priyanka Takle</td>\n",
       "    </tr>\n",
       "    <tr>\n",
       "      <th>5983efa05a877f6e38bb32b3</th>\n",
       "      <td>2017-08-04 03:53:04</td>\n",
       "      <td>opera</td>\n",
       "      <td>Elana Shen</td>\n",
       "      <td>Priyanka Takle</td>\n",
       "    </tr>\n",
       "    <tr>\n",
       "      <th>5a49541d5a877f6e382ba4ee</th>\n",
       "      <td>2017-12-31 21:18:21</td>\n",
       "      <td>stacks</td>\n",
       "      <td>Elana Shen</td>\n",
       "      <td>Priyanka Takle</td>\n",
       "    </tr>\n",
       "    <tr>\n",
       "      <th>5790573323e064eac0b10dff</th>\n",
       "      <td>2016-07-21 05:01:39</td>\n",
       "      <td>uber</td>\n",
       "      <td>Elana Shen</td>\n",
       "      <td>Zahra Surani</td>\n",
       "    </tr>\n",
       "    <tr>\n",
       "      <th>57905c4823e064eac0b147d3</th>\n",
       "      <td>2016-07-21 05:23:20</td>\n",
       "      <td>uber</td>\n",
       "      <td>Elana Shen</td>\n",
       "      <td>Nancy Yao</td>\n",
       "    </tr>\n",
       "    <tr>\n",
       "      <th>598548d45a877f6e38a526cf</th>\n",
       "      <td>2017-08-05 04:25:56</td>\n",
       "      <td>uber</td>\n",
       "      <td>Elana Shen</td>\n",
       "      <td>Nancy Yao</td>\n",
       "    </tr>\n",
       "    <tr>\n",
       "      <th>57b6767923e064eac08a5910</th>\n",
       "      <td>2016-08-19 03:01:13</td>\n",
       "      <td>fud</td>\n",
       "      <td>Elana Shen</td>\n",
       "      <td>Tiffany Zhong</td>\n",
       "    </tr>\n",
       "    <tr>\n",
       "      <th>...</th>\n",
       "      <td>...</td>\n",
       "      <td>...</td>\n",
       "      <td>...</td>\n",
       "      <td>...</td>\n",
       "    </tr>\n",
       "    <tr>\n",
       "      <th>597521c55a877f6e387bf347</th>\n",
       "      <td>2017-07-23 22:23:01</td>\n",
       "      <td>🍔</td>\n",
       "      <td>Emily Lien</td>\n",
       "      <td>Elana Shen</td>\n",
       "    </tr>\n",
       "    <tr>\n",
       "      <th>598ff5c95a877f6e3802cfec</th>\n",
       "      <td>2017-08-13 06:46:33</td>\n",
       "      <td>Last date</td>\n",
       "      <td>Emily Lien</td>\n",
       "      <td>Elana Shen</td>\n",
       "    </tr>\n",
       "    <tr>\n",
       "      <th>5961c1e90f7b403c8b5ddb0c</th>\n",
       "      <td>2017-07-09 05:40:57</td>\n",
       "      <td>😇</td>\n",
       "      <td>Ted Zhu</td>\n",
       "      <td>Elana Shen</td>\n",
       "    </tr>\n",
       "    <tr>\n",
       "      <th>599113965a877f6e38cffc26</th>\n",
       "      <td>2017-08-14 03:05:58</td>\n",
       "      <td>🚗</td>\n",
       "      <td>Lydia Goldberg</td>\n",
       "      <td>Elana Shen</td>\n",
       "    </tr>\n",
       "    <tr>\n",
       "      <th>59af45125a877f6e389dbc43</th>\n",
       "      <td>2017-09-06 00:45:06</td>\n",
       "      <td>🎂🎉</td>\n",
       "      <td>Aaron Grand</td>\n",
       "      <td>Elana Shen</td>\n",
       "    </tr>\n",
       "    <tr>\n",
       "      <th>59b82afd5a877f6e38c54246</th>\n",
       "      <td>2017-09-12 18:44:13</td>\n",
       "      <td>shtuff</td>\n",
       "      <td>Lizzy Schick</td>\n",
       "      <td>Elana Shen</td>\n",
       "    </tr>\n",
       "    <tr>\n",
       "      <th>59d12de25a877f6e3886a770</th>\n",
       "      <td>2017-10-01 18:03:13</td>\n",
       "      <td>lyft</td>\n",
       "      <td>Lizzy Schick</td>\n",
       "      <td>Elana Shen</td>\n",
       "    </tr>\n",
       "    <tr>\n",
       "      <th>5a9e5aa75a877f6e38d57915</th>\n",
       "      <td>2018-03-06 09:08:55</td>\n",
       "      <td>firenze!!</td>\n",
       "      <td>Lizzy Schick</td>\n",
       "      <td>Elana Shen</td>\n",
       "    </tr>\n",
       "    <tr>\n",
       "      <th>5abbecc35a877f6e38325cd4</th>\n",
       "      <td>2018-03-28 19:28:03</td>\n",
       "      <td>3.5 stars</td>\n",
       "      <td>Lizzy Schick</td>\n",
       "      <td>Elana Shen</td>\n",
       "    </tr>\n",
       "    <tr>\n",
       "      <th>5b1c84fd5a877f6e381fa9f0</th>\n",
       "      <td>2018-06-10 01:55:09</td>\n",
       "      <td>golden unicorn</td>\n",
       "      <td>Lizzy Schick</td>\n",
       "      <td>Elana Shen</td>\n",
       "    </tr>\n",
       "    <tr>\n",
       "      <th>5b2d896127064c70e4abc3bd</th>\n",
       "      <td>2018-06-22 23:42:24</td>\n",
       "      <td>dinna</td>\n",
       "      <td>Lizzy Schick</td>\n",
       "      <td>Elana Shen</td>\n",
       "    </tr>\n",
       "    <tr>\n",
       "      <th>5b52799ce1f606dc2ff47cc7</th>\n",
       "      <td>2018-07-21 00:09:00</td>\n",
       "      <td>pan asian experience</td>\n",
       "      <td>Lizzy Schick</td>\n",
       "      <td>Elana Shen</td>\n",
       "    </tr>\n",
       "    <tr>\n",
       "      <th>5a57f62f5a877f6e38eadf99</th>\n",
       "      <td>2018-01-11 23:41:34</td>\n",
       "      <td>🍕</td>\n",
       "      <td>Yael Goldstein</td>\n",
       "      <td>Elana Shen</td>\n",
       "    </tr>\n",
       "    <tr>\n",
       "      <th>5a9312735a877f6e38607a50</th>\n",
       "      <td>2018-02-25 19:45:55</td>\n",
       "      <td>Burger :)</td>\n",
       "      <td>Yael Goldstein</td>\n",
       "      <td>Elana Shen</td>\n",
       "    </tr>\n",
       "    <tr>\n",
       "      <th>5a96cde45a877f6e388d75d9</th>\n",
       "      <td>2018-02-28 15:42:28</td>\n",
       "      <td>China 🏠</td>\n",
       "      <td>Yael Goldstein</td>\n",
       "      <td>Elana Shen</td>\n",
       "    </tr>\n",
       "    <tr>\n",
       "      <th>5b0e393c5a877f6e381c367a</th>\n",
       "      <td>2018-05-30 05:40:12</td>\n",
       "      <td>Bletchley bar 🍹</td>\n",
       "      <td>Yael Goldstein</td>\n",
       "      <td>Elana Shen</td>\n",
       "    </tr>\n",
       "    <tr>\n",
       "      <th>5a80bbff5a877f6e38a9f683</th>\n",
       "      <td>2018-02-11 21:56:15</td>\n",
       "      <td>Bar</td>\n",
       "      <td>Alison Rao</td>\n",
       "      <td>Elana Shen</td>\n",
       "    </tr>\n",
       "    <tr>\n",
       "      <th>5a80bcae5a877f6e38c405dd</th>\n",
       "      <td>2018-02-11 21:59:10</td>\n",
       "      <td>The ferris wheel was too expensive so we got d...</td>\n",
       "      <td>Cera Soma</td>\n",
       "      <td>Elana Shen</td>\n",
       "    </tr>\n",
       "    <tr>\n",
       "      <th>5ab05fcc5a877f6e3807979e</th>\n",
       "      <td>2018-03-20 01:11:40</td>\n",
       "      <td>🇬🇧 steak frites</td>\n",
       "      <td>David Li</td>\n",
       "      <td>Elana Shen</td>\n",
       "    </tr>\n",
       "    <tr>\n",
       "      <th>5b425875e1f606dc2f161248</th>\n",
       "      <td>2018-07-08 18:31:17</td>\n",
       "      <td>⛳</td>\n",
       "      <td>Minji Kim</td>\n",
       "      <td>Elana Shen</td>\n",
       "    </tr>\n",
       "    <tr>\n",
       "      <th>5b454f6ce1f606dc2fa6c90e</th>\n",
       "      <td>2018-07-11 00:29:32</td>\n",
       "      <td>🍔</td>\n",
       "      <td>Jacob Klegar</td>\n",
       "      <td>Elana Shen</td>\n",
       "    </tr>\n",
       "    <tr>\n",
       "      <th>5b527991e1f606dc2ff2b6e9</th>\n",
       "      <td>2018-07-21 00:08:49</td>\n",
       "      <td>3fer</td>\n",
       "      <td>Moriah Lee</td>\n",
       "      <td>Elana Shen</td>\n",
       "    </tr>\n",
       "    <tr>\n",
       "      <th>5b56834de1f606dc2f185b70</th>\n",
       "      <td>2018-07-24 01:39:25</td>\n",
       "      <td>Food</td>\n",
       "      <td>Moriah Lee</td>\n",
       "      <td>Elana Shen</td>\n",
       "    </tr>\n",
       "    <tr>\n",
       "      <th>5b941486e1f606dc2f0f8611</th>\n",
       "      <td>2018-09-08 18:27:18</td>\n",
       "      <td>Cafe</td>\n",
       "      <td>Moriah Lee</td>\n",
       "      <td>Elana Shen</td>\n",
       "    </tr>\n",
       "    <tr>\n",
       "      <th>5b957fd8e1f606dc2f9acd1b</th>\n",
       "      <td>2018-09-09 20:17:28</td>\n",
       "      <td>Lyft</td>\n",
       "      <td>Moriah Lee</td>\n",
       "      <td>Elana Shen</td>\n",
       "    </tr>\n",
       "    <tr>\n",
       "      <th>5bac041ee1f606dc2f7e9284</th>\n",
       "      <td>2018-09-26 22:11:42</td>\n",
       "      <td>Smooth</td>\n",
       "      <td>Moriah Lee</td>\n",
       "      <td>Elana Shen</td>\n",
       "    </tr>\n",
       "    <tr>\n",
       "      <th>5be5e88de1f606dc2f62e9b1</th>\n",
       "      <td>2018-11-09 20:05:33</td>\n",
       "      <td>Peet’s and ab</td>\n",
       "      <td>Moriah Lee</td>\n",
       "      <td>Elana Shen</td>\n",
       "    </tr>\n",
       "    <tr>\n",
       "      <th>5ba7ef63e1f606dc2f27225d</th>\n",
       "      <td>2018-09-23 19:54:11</td>\n",
       "      <td>Kong</td>\n",
       "      <td>Iris Chung</td>\n",
       "      <td>Elana Shen</td>\n",
       "    </tr>\n",
       "    <tr>\n",
       "      <th>5bafff96e1f606dc2f560edb</th>\n",
       "      <td>2018-09-29 22:41:26</td>\n",
       "      <td>Lyft</td>\n",
       "      <td>Iris Chung</td>\n",
       "      <td>Elana Shen</td>\n",
       "    </tr>\n",
       "    <tr>\n",
       "      <th>5be4db98e1f606dc2f5848bf</th>\n",
       "      <td>2018-11-09 00:57:58</td>\n",
       "      <td>high fives</td>\n",
       "      <td>Caroline Ko</td>\n",
       "      <td>Elana Shen</td>\n",
       "    </tr>\n",
       "  </tbody>\n",
       "</table>\n",
       "<p>205 rows × 4 columns</p>\n",
       "</div>"
      ],
      "text/plain": [
       "                                created_time  \\\n",
       "56d8b7dbcd03c9af22178511 2016-03-03 22:16:59   \n",
       "56da498fcd03c9af2234ba8b 2016-03-05 02:50:55   \n",
       "570d775bcd03c9af228f366e 2016-04-12 22:31:55   \n",
       "572d54d6cd03c9af22d62462 2016-05-07 02:37:10   \n",
       "573325c6cd03c9af22382524 2016-05-11 12:29:58   \n",
       "589ff48723e064eac05e01e1 2017-02-12 05:37:11   \n",
       "59121002a385c7e9b5f12288 2017-05-09 18:52:50   \n",
       "56f9913dcd03c9af22274735 2016-03-28 20:17:01   \n",
       "572815a9cd03c9af227385a0 2016-05-03 03:06:17   \n",
       "576610d8cd03c9af22adb8a3 2016-06-19 03:26:16   \n",
       "598547fd5a877f6e3891700c 2017-08-05 04:22:21   \n",
       "59c7c72e5a877f6e381cd470 2017-09-24 14:54:38   \n",
       "59c7c7305a877f6e381d0e9c 2017-09-24 14:54:40   \n",
       "577095c023e064eac05a71ac 2016-06-27 02:56:00   \n",
       "57bdf80623e064eac02388cf 2016-08-24 19:39:50   \n",
       "582fdbaa23e064eac02dc879 2016-11-19 04:57:14   \n",
       "58770a5623e064eac080be92 2017-01-12 04:47:18   \n",
       "5877d48f23e064eac08df397 2017-01-12 19:10:07   \n",
       "5a49542b5a877f6e382d43dc 2017-12-31 21:18:35   \n",
       "5b11db7a5a877f6e383e9373 2018-06-01 23:49:14   \n",
       "5774604223e064eac0994d66 2016-06-29 23:56:49   \n",
       "5775d1a323e064eac0b72eae 2016-07-01 02:12:51   \n",
       "578c2f3323e064eac06a7dbe 2016-07-18 01:21:55   \n",
       "596a515f5a877f6e381a26c1 2017-07-15 17:31:11   \n",
       "5983efa05a877f6e38bb32b3 2017-08-04 03:53:04   \n",
       "5a49541d5a877f6e382ba4ee 2017-12-31 21:18:21   \n",
       "5790573323e064eac0b10dff 2016-07-21 05:01:39   \n",
       "57905c4823e064eac0b147d3 2016-07-21 05:23:20   \n",
       "598548d45a877f6e38a526cf 2017-08-05 04:25:56   \n",
       "57b6767923e064eac08a5910 2016-08-19 03:01:13   \n",
       "...                                      ...   \n",
       "597521c55a877f6e387bf347 2017-07-23 22:23:01   \n",
       "598ff5c95a877f6e3802cfec 2017-08-13 06:46:33   \n",
       "5961c1e90f7b403c8b5ddb0c 2017-07-09 05:40:57   \n",
       "599113965a877f6e38cffc26 2017-08-14 03:05:58   \n",
       "59af45125a877f6e389dbc43 2017-09-06 00:45:06   \n",
       "59b82afd5a877f6e38c54246 2017-09-12 18:44:13   \n",
       "59d12de25a877f6e3886a770 2017-10-01 18:03:13   \n",
       "5a9e5aa75a877f6e38d57915 2018-03-06 09:08:55   \n",
       "5abbecc35a877f6e38325cd4 2018-03-28 19:28:03   \n",
       "5b1c84fd5a877f6e381fa9f0 2018-06-10 01:55:09   \n",
       "5b2d896127064c70e4abc3bd 2018-06-22 23:42:24   \n",
       "5b52799ce1f606dc2ff47cc7 2018-07-21 00:09:00   \n",
       "5a57f62f5a877f6e38eadf99 2018-01-11 23:41:34   \n",
       "5a9312735a877f6e38607a50 2018-02-25 19:45:55   \n",
       "5a96cde45a877f6e388d75d9 2018-02-28 15:42:28   \n",
       "5b0e393c5a877f6e381c367a 2018-05-30 05:40:12   \n",
       "5a80bbff5a877f6e38a9f683 2018-02-11 21:56:15   \n",
       "5a80bcae5a877f6e38c405dd 2018-02-11 21:59:10   \n",
       "5ab05fcc5a877f6e3807979e 2018-03-20 01:11:40   \n",
       "5b425875e1f606dc2f161248 2018-07-08 18:31:17   \n",
       "5b454f6ce1f606dc2fa6c90e 2018-07-11 00:29:32   \n",
       "5b527991e1f606dc2ff2b6e9 2018-07-21 00:08:49   \n",
       "5b56834de1f606dc2f185b70 2018-07-24 01:39:25   \n",
       "5b941486e1f606dc2f0f8611 2018-09-08 18:27:18   \n",
       "5b957fd8e1f606dc2f9acd1b 2018-09-09 20:17:28   \n",
       "5bac041ee1f606dc2f7e9284 2018-09-26 22:11:42   \n",
       "5be5e88de1f606dc2f62e9b1 2018-11-09 20:05:33   \n",
       "5ba7ef63e1f606dc2f27225d 2018-09-23 19:54:11   \n",
       "5bafff96e1f606dc2f560edb 2018-09-29 22:41:26   \n",
       "5be4db98e1f606dc2f5848bf 2018-11-09 00:57:58   \n",
       "\n",
       "                                                                    message  \\\n",
       "56d8b7dbcd03c9af22178511                                         keychange🔑   \n",
       "56da498fcd03c9af2234ba8b                                      pizza pizza 🍕   \n",
       "570d775bcd03c9af228f366e                                          ♻️🚯☃🔮🕳↪️🔀   \n",
       "572d54d6cd03c9af22d62462                                love and friendship   \n",
       "573325c6cd03c9af22382524                                            tissues   \n",
       "589ff48723e064eac05e01e1                                       cookie cream   \n",
       "59121002a385c7e9b5f12288                                            stunted   \n",
       "56f9913dcd03c9af22274735                                                  🎫   \n",
       "572815a9cd03c9af227385a0                                             formal   \n",
       "576610d8cd03c9af22adb8a3                        hanging out without @phong1   \n",
       "598547fd5a877f6e3891700c                                               uber   \n",
       "59c7c72e5a877f6e381cd470                                                fud   \n",
       "59c7c7305a877f6e381d0e9c                                               uber   \n",
       "577095c023e064eac05a71ac                                         friendship   \n",
       "57bdf80623e064eac02388cf                              friendship is forever   \n",
       "582fdbaa23e064eac02dc879                                                  🍕   \n",
       "58770a5623e064eac080be92                                i love car alarms!!   \n",
       "5877d48f23e064eac08df397                                               uber   \n",
       "5a49542b5a877f6e382d43dc                                             stacks   \n",
       "5b11db7a5a877f6e383e9373                                        booba balls   \n",
       "5774604223e064eac0994d66                                                  😀   \n",
       "5775d1a323e064eac0b72eae                                             u know   \n",
       "578c2f3323e064eac06a7dbe                                                 ⛳️   \n",
       "596a515f5a877f6e381a26c1                                               ubes   \n",
       "5983efa05a877f6e38bb32b3                                              opera   \n",
       "5a49541d5a877f6e382ba4ee                                             stacks   \n",
       "5790573323e064eac0b10dff                                               uber   \n",
       "57905c4823e064eac0b147d3                                               uber   \n",
       "598548d45a877f6e38a526cf                                               uber   \n",
       "57b6767923e064eac08a5910                                                fud   \n",
       "...                                                                     ...   \n",
       "597521c55a877f6e387bf347                                                  🍔   \n",
       "598ff5c95a877f6e3802cfec                                          Last date   \n",
       "5961c1e90f7b403c8b5ddb0c                                                  😇   \n",
       "599113965a877f6e38cffc26                                                  🚗   \n",
       "59af45125a877f6e389dbc43                                                 🎂🎉   \n",
       "59b82afd5a877f6e38c54246                                             shtuff   \n",
       "59d12de25a877f6e3886a770                                               lyft   \n",
       "5a9e5aa75a877f6e38d57915                                          firenze!!   \n",
       "5abbecc35a877f6e38325cd4                                          3.5 stars   \n",
       "5b1c84fd5a877f6e381fa9f0                                     golden unicorn   \n",
       "5b2d896127064c70e4abc3bd                                              dinna   \n",
       "5b52799ce1f606dc2ff47cc7                               pan asian experience   \n",
       "5a57f62f5a877f6e38eadf99                                                  🍕   \n",
       "5a9312735a877f6e38607a50                                          Burger :)   \n",
       "5a96cde45a877f6e388d75d9                                            China 🏠   \n",
       "5b0e393c5a877f6e381c367a                                    Bletchley bar 🍹   \n",
       "5a80bbff5a877f6e38a9f683                                                Bar   \n",
       "5a80bcae5a877f6e38c405dd  The ferris wheel was too expensive so we got d...   \n",
       "5ab05fcc5a877f6e3807979e                                    🇬🇧 steak frites   \n",
       "5b425875e1f606dc2f161248                                                  ⛳   \n",
       "5b454f6ce1f606dc2fa6c90e                                                  🍔   \n",
       "5b527991e1f606dc2ff2b6e9                                               3fer   \n",
       "5b56834de1f606dc2f185b70                                               Food   \n",
       "5b941486e1f606dc2f0f8611                                               Cafe   \n",
       "5b957fd8e1f606dc2f9acd1b                                               Lyft   \n",
       "5bac041ee1f606dc2f7e9284                                             Smooth   \n",
       "5be5e88de1f606dc2f62e9b1                                      Peet’s and ab   \n",
       "5ba7ef63e1f606dc2f27225d                                               Kong   \n",
       "5bafff96e1f606dc2f560edb                                               Lyft   \n",
       "5be4db98e1f606dc2f5848bf                                         high fives   \n",
       "\n",
       "                               from_name                     to_name  \n",
       "56d8b7dbcd03c9af22178511      Elana Shen                 Gen Lefevre  \n",
       "56da498fcd03c9af2234ba8b      Elana Shen                 Leah Daniel  \n",
       "570d775bcd03c9af228f366e      Elana Shen                 Leah Daniel  \n",
       "572d54d6cd03c9af22d62462      Elana Shen                 Leah Daniel  \n",
       "573325c6cd03c9af22382524      Elana Shen                 Leah Daniel  \n",
       "589ff48723e064eac05e01e1      Elana Shen                 Leah Daniel  \n",
       "59121002a385c7e9b5f12288      Elana Shen                 Leah Daniel  \n",
       "56f9913dcd03c9af22274735      Elana Shen  Harvard Korean Association  \n",
       "572815a9cd03c9af227385a0      Elana Shen               Kirkland HoCo  \n",
       "576610d8cd03c9af22adb8a3      Elana Shen                   Angie Rao  \n",
       "598547fd5a877f6e3891700c      Elana Shen                   Angie Rao  \n",
       "59c7c72e5a877f6e381cd470      Elana Shen                   Angie Rao  \n",
       "59c7c7305a877f6e381d0e9c      Elana Shen                   Angie Rao  \n",
       "577095c023e064eac05a71ac      Elana Shen             Brandon Rabaria  \n",
       "57bdf80623e064eac02388cf      Elana Shen             Brandon Rabaria  \n",
       "582fdbaa23e064eac02dc879      Elana Shen             Brandon Rabaria  \n",
       "58770a5623e064eac080be92      Elana Shen             Brandon Rabaria  \n",
       "5877d48f23e064eac08df397      Elana Shen             Brandon Rabaria  \n",
       "5a49542b5a877f6e382d43dc      Elana Shen             Brandon Rabaria  \n",
       "5b11db7a5a877f6e383e9373      Elana Shen             Brandon Rabaria  \n",
       "5774604223e064eac0994d66      Elana Shen                   Jenny Lee  \n",
       "5775d1a323e064eac0b72eae      Elana Shen              Priyanka Takle  \n",
       "578c2f3323e064eac06a7dbe      Elana Shen              Priyanka Takle  \n",
       "596a515f5a877f6e381a26c1      Elana Shen              Priyanka Takle  \n",
       "5983efa05a877f6e38bb32b3      Elana Shen              Priyanka Takle  \n",
       "5a49541d5a877f6e382ba4ee      Elana Shen              Priyanka Takle  \n",
       "5790573323e064eac0b10dff      Elana Shen                Zahra Surani  \n",
       "57905c4823e064eac0b147d3      Elana Shen                   Nancy Yao  \n",
       "598548d45a877f6e38a526cf      Elana Shen                   Nancy Yao  \n",
       "57b6767923e064eac08a5910      Elana Shen               Tiffany Zhong  \n",
       "...                                  ...                         ...  \n",
       "597521c55a877f6e387bf347      Emily Lien                  Elana Shen  \n",
       "598ff5c95a877f6e3802cfec      Emily Lien                  Elana Shen  \n",
       "5961c1e90f7b403c8b5ddb0c         Ted Zhu                  Elana Shen  \n",
       "599113965a877f6e38cffc26  Lydia Goldberg                  Elana Shen  \n",
       "59af45125a877f6e389dbc43     Aaron Grand                  Elana Shen  \n",
       "59b82afd5a877f6e38c54246    Lizzy Schick                  Elana Shen  \n",
       "59d12de25a877f6e3886a770    Lizzy Schick                  Elana Shen  \n",
       "5a9e5aa75a877f6e38d57915    Lizzy Schick                  Elana Shen  \n",
       "5abbecc35a877f6e38325cd4    Lizzy Schick                  Elana Shen  \n",
       "5b1c84fd5a877f6e381fa9f0    Lizzy Schick                  Elana Shen  \n",
       "5b2d896127064c70e4abc3bd    Lizzy Schick                  Elana Shen  \n",
       "5b52799ce1f606dc2ff47cc7    Lizzy Schick                  Elana Shen  \n",
       "5a57f62f5a877f6e38eadf99  Yael Goldstein                  Elana Shen  \n",
       "5a9312735a877f6e38607a50  Yael Goldstein                  Elana Shen  \n",
       "5a96cde45a877f6e388d75d9  Yael Goldstein                  Elana Shen  \n",
       "5b0e393c5a877f6e381c367a  Yael Goldstein                  Elana Shen  \n",
       "5a80bbff5a877f6e38a9f683      Alison Rao                  Elana Shen  \n",
       "5a80bcae5a877f6e38c405dd       Cera Soma                  Elana Shen  \n",
       "5ab05fcc5a877f6e3807979e        David Li                  Elana Shen  \n",
       "5b425875e1f606dc2f161248       Minji Kim                  Elana Shen  \n",
       "5b454f6ce1f606dc2fa6c90e    Jacob Klegar                  Elana Shen  \n",
       "5b527991e1f606dc2ff2b6e9      Moriah Lee                  Elana Shen  \n",
       "5b56834de1f606dc2f185b70      Moriah Lee                  Elana Shen  \n",
       "5b941486e1f606dc2f0f8611      Moriah Lee                  Elana Shen  \n",
       "5b957fd8e1f606dc2f9acd1b      Moriah Lee                  Elana Shen  \n",
       "5bac041ee1f606dc2f7e9284      Moriah Lee                  Elana Shen  \n",
       "5be5e88de1f606dc2f62e9b1      Moriah Lee                  Elana Shen  \n",
       "5ba7ef63e1f606dc2f27225d      Iris Chung                  Elana Shen  \n",
       "5bafff96e1f606dc2f560edb      Iris Chung                  Elana Shen  \n",
       "5be4db98e1f606dc2f5848bf     Caroline Ko                  Elana Shen  \n",
       "\n",
       "[205 rows x 4 columns]"
      ]
     },
     "execution_count": 76,
     "metadata": {},
     "output_type": "execute_result"
    }
   ],
   "source": [
    "user_transacts\\\n",
    ".merge(users.loc[:,['name']], left_on='from', right_index=True) \\\n",
    ".rename(columns={'name': 'from_name'}) \\\n",
    ".merge(users.loc[:,['name']], left_on='to', right_index=True) \\\n",
    ".rename(columns={'name': 'to_name'}) \\\n",
    ".loc[:,['created_time', 'message', 'from_name', 'to_name']]"
   ]
  },
  {
   "cell_type": "code",
   "execution_count": null,
   "metadata": {},
   "outputs": [],
   "source": []
  }
 ],
 "metadata": {
  "kernelspec": {
   "display_name": "Python 3",
   "language": "python",
   "name": "python3"
  },
  "language_info": {
   "codemirror_mode": {
    "name": "ipython",
    "version": 3
   },
   "file_extension": ".py",
   "mimetype": "text/x-python",
   "name": "python",
   "nbconvert_exporter": "python",
   "pygments_lexer": "ipython3",
   "version": "3.6.1"
  }
 },
 "nbformat": 4,
 "nbformat_minor": 2
}

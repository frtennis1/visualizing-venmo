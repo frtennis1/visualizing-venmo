{
 "cells": [
  {
   "cell_type": "code",
   "execution_count": 26,
   "metadata": {},
   "outputs": [],
   "source": [
    "users = pd.read_csv('data/processed/users.csv')"
   ]
  },
  {
   "cell_type": "code",
   "execution_count": 27,
   "metadata": {},
   "outputs": [
    {
     "data": {
      "text/plain": [
       "54046"
      ]
     },
     "execution_count": 27,
     "metadata": {},
     "output_type": "execute_result"
    }
   ],
   "source": [
    "len(users)"
   ]
  },
  {
   "cell_type": "code",
   "execution_count": 28,
   "metadata": {},
   "outputs": [
    {
     "data": {
      "text/plain": [
       "3926"
      ]
     },
     "execution_count": 28,
     "metadata": {},
     "output_type": "execute_result"
    }
   ],
   "source": [
    "len(users[users.is_crawled])"
   ]
  },
  {
   "cell_type": "code",
   "execution_count": 15,
   "metadata": {},
   "outputs": [],
   "source": [
    "df = pd.read_csv('data/processed/transactions.csv')\n",
    "\n",
    "words = [w.lower() for s in df.message for w in s.split(' ')]\n",
    "\n",
    "popularities = pd.DataFrame(words, columns=['word']) \\\n",
    "    .groupby('word') \\\n",
    "    .size() \\\n",
    "    .sort_values(ascending=False)"
   ]
  },
  {
   "cell_type": "code",
   "execution_count": 19,
   "metadata": {},
   "outputs": [
    {
     "data": {
      "text/plain": [
       "word\n",
       "for     17471\n",
       "the     12961\n",
       "uber    12502\n",
       "and      9315\n",
       "food     8154\n",
       "dtype: int64"
      ]
     },
     "execution_count": 19,
     "metadata": {},
     "output_type": "execute_result"
    }
   ],
   "source": [
    "popularities.head()"
   ]
  },
  {
   "cell_type": "code",
   "execution_count": 20,
   "metadata": {},
   "outputs": [
    {
     "data": {
      "text/plain": [
       "1912"
      ]
     },
     "execution_count": 20,
     "metadata": {},
     "output_type": "execute_result"
    }
   ],
   "source": [
    "popularities['lyft']"
   ]
  },
  {
   "cell_type": "code",
   "execution_count": 16,
   "metadata": {},
   "outputs": [
    {
     "data": {
      "text/plain": [
       "word\n",
       "for       17471\n",
       "the       12961\n",
       "uber      12502\n",
       "and        9315\n",
       "food       8154\n",
       "a          7877\n",
       "to         6804\n",
       "you        6630\n",
       "i          6299\n",
       "of         4766\n",
       "my         4509\n",
       "🍕          3834\n",
       "me         3730\n",
       "in         3423\n",
       "u          2786\n",
       "is         2774\n",
       "           2590\n",
       "+          2563\n",
       "your       2498\n",
       "good       2398\n",
       "dinner     2379\n",
       "on         2279\n",
       "it         2234\n",
       "this       2202\n",
       "from       2197\n",
       "that       2124\n",
       ":)         2045\n",
       "love       2007\n",
       "2          2006\n",
       "being      1999\n",
       "thanks     1999\n",
       "lyft       1912\n",
       "🚗          1810\n",
       "thank      1802\n",
       "🍴          1759\n",
       "stuff      1758\n",
       "not        1746\n",
       "🍣          1720\n",
       "night      1695\n",
       "🍜          1694\n",
       "ticket     1674\n",
       "dues       1630\n",
       "with       1548\n",
       "so         1532\n",
       "🚕          1451\n",
       "fun        1435\n",
       "pizza      1373\n",
       "lol        1363\n",
       "money      1351\n",
       "at         1328\n",
       "dtype: int64"
      ]
     },
     "execution_count": 16,
     "metadata": {},
     "output_type": "execute_result"
    }
   ],
   "source": [
    "popularities.head(50)"
   ]
  },
  {
   "cell_type": "code",
   "execution_count": 23,
   "metadata": {},
   "outputs": [
    {
     "data": {
      "text/plain": [
       "381613"
      ]
     },
     "execution_count": 23,
     "metadata": {},
     "output_type": "execute_result"
    }
   ],
   "source": [
    "len(df)"
   ]
  },
  {
   "cell_type": "code",
   "execution_count": 22,
   "metadata": {},
   "outputs": [
    {
     "data": {
      "text/plain": [
       "105821"
      ]
     },
     "execution_count": 22,
     "metadata": {},
     "output_type": "execute_result"
    }
   ],
   "source": [
    "len(popularities)"
   ]
  },
  {
   "cell_type": "code",
   "execution_count": 25,
   "metadata": {},
   "outputs": [
    {
     "data": {
      "text/plain": [
       "764"
      ]
     },
     "execution_count": 25,
     "metadata": {},
     "output_type": "execute_result"
    }
   ],
   "source": [
    "sum(df.message.str.lower().str.contains('sex'))"
   ]
  },
  {
   "cell_type": "code",
   "execution_count": null,
   "metadata": {},
   "outputs": [],
   "source": []
  }
 ],
 "metadata": {
  "kernelspec": {
   "display_name": "Python 3",
   "language": "python",
   "name": "python3"
  },
  "language_info": {
   "codemirror_mode": {
    "name": "ipython",
    "version": 3
   },
   "file_extension": ".py",
   "mimetype": "text/x-python",
   "name": "python",
   "nbconvert_exporter": "python",
   "pygments_lexer": "ipython3",
   "version": "3.6.1"
  }
 },
 "nbformat": 4,
 "nbformat_minor": 2
}

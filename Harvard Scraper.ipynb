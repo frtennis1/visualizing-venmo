{
 "cells": [
  {
   "cell_type": "markdown",
   "metadata": {},
   "source": [
    "# Scrape Harvard for list of names"
   ]
  },
  {
   "cell_type": "code",
   "execution_count": 2,
   "metadata": {},
   "outputs": [],
   "source": [
    "import json\n",
    "\n",
    "from selenium import webdriver\n",
    "from selenium.webdriver.support.ui import WebDriverWait\n",
    "from selenium.webdriver.support import expected_conditions as EC\n",
    "from selenium.webdriver.common.by import By\n",
    "\n",
    "from bs4 import BeautifulSoup"
   ]
  },
  {
   "cell_type": "code",
   "execution_count": null,
   "metadata": {},
   "outputs": [],
   "source": [
    "def get_page_table():\n",
    "    df = pd.read_html(driver.page_source)[2]\n",
    "    df.columns = df.iloc[1]\n",
    "    df = df.iloc[2:].dropna(axis=1, how='all').reset_index(drop=True)\n",
    "    df.columns.name = None\n",
    "    return df"
   ]
  },
  {
   "cell_type": "code",
   "execution_count": null,
   "metadata": {},
   "outputs": [],
   "source": [
    "driver = webdriver.Firefox()"
   ]
  },
  {
   "cell_type": "code",
   "execution_count": null,
   "metadata": {},
   "outputs": [],
   "source": [
    "cont = True\n",
    "dfs = []\n",
    "\n",
    "for i in tqdm(range(0,34)):\n",
    "\n",
    "    if not cont:\n",
    "        break\n",
    "        \n",
    "    url = 'https://facebook.college.harvard.edu//search?view=list&start=%i&num=50&sortby=name_last&imgsize=&id=&name_first=&name_last=&house=&assigned_house=&concentration=&year=Senior&birthmonth=&birthdate=&dorm_address=' % (50*i + 1)\n",
    "    driver.get(url)\n",
    "    time.sleep(1)\n",
    "    dfs.append(get_page_table())\n",
    "    \n",
    "#     c = input()\n",
    "#     if c != 'y':\n",
    "#         cont = False\n"
   ]
  },
  {
   "cell_type": "code",
   "execution_count": null,
   "metadata": {},
   "outputs": [],
   "source": [
    "harvard_df = pd.concat(dfs)"
   ]
  },
  {
   "cell_type": "code",
   "execution_count": null,
   "metadata": {},
   "outputs": [],
   "source": [
    "harvard_df.to_csv('data/harvard/seniors.csv', index=False)"
   ]
  }
 ],
 "metadata": {
  "kernelspec": {
   "display_name": "Python 3",
   "language": "python",
   "name": "python3"
  },
  "language_info": {
   "codemirror_mode": {
    "name": "ipython",
    "version": 3
   },
   "file_extension": ".py",
   "mimetype": "text/x-python",
   "name": "python",
   "nbconvert_exporter": "python",
   "pygments_lexer": "ipython3",
   "version": "3.6.1"
  }
 },
 "nbformat": 4,
 "nbformat_minor": 2
}

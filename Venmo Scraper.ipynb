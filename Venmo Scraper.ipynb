{
 "cells": [
  {
   "cell_type": "markdown",
   "metadata": {},
   "source": [
    "# Scrape Venmo\n",
    "\n",
    "## Imports"
   ]
  },
  {
   "cell_type": "code",
   "execution_count": 1,
   "metadata": {},
   "outputs": [],
   "source": [
    "import glob\n",
    "import json\n",
    "import os\n",
    "import re\n",
    "import requests\n",
    "import time\n",
    "\n",
    "\n",
    "from selenium import webdriver\n",
    "from selenium.webdriver.support.ui import WebDriverWait\n",
    "from selenium.webdriver.support import expected_conditions as EC\n",
    "from selenium.webdriver.common.by import By\n",
    "from selenium.common.exceptions import TimeoutException\n",
    "\n",
    "from bs4 import BeautifulSoup\n",
    "from IPython.display import clear_output"
   ]
  },
  {
   "cell_type": "markdown",
   "metadata": {},
   "source": [
    "## Set up the scraper"
   ]
  },
  {
   "cell_type": "code",
   "execution_count": 6,
   "metadata": {},
   "outputs": [],
   "source": [
    "driver = webdriver.Chrome()"
   ]
  },
  {
   "cell_type": "code",
   "execution_count": 7,
   "metadata": {},
   "outputs": [],
   "source": [
    "base_url = 'https://venmo.com/api/v5/'"
   ]
  },
  {
   "cell_type": "code",
   "execution_count": 9,
   "metadata": {},
   "outputs": [],
   "source": [
    "venmo_user = 'frtennis1@gmail.com'\n",
    "#os.environ['venmo_pwd'] = "
   ]
  },
  {
   "cell_type": "code",
   "execution_count": 10,
   "metadata": {},
   "outputs": [],
   "source": [
    "def log_in():\n",
    "    driver.get('https://venmo.com')\n",
    "    sign_in_btn = WebDriverWait(driver, 3).until(\n",
    "            EC.presence_of_element_located((By.LINK_TEXT, 'Sign In')))\n",
    "    sign_in_btn.click()\n",
    "    email_box = WebDriverWait(driver, 3).until(\n",
    "            EC.presence_of_element_located((By.NAME, 'phoneEmailUsername')))\n",
    "    email_box.send_keys(venmo_user)\n",
    "    pwd_box = WebDriverWait(driver, 3).until(\n",
    "            EC.presence_of_element_located((By.NAME, 'password')))\n",
    "    pwd_box.send_keys(os.environ['venmo_pwd'])\n",
    "    pwd_box.submit()"
   ]
  },
  {
   "cell_type": "code",
   "execution_count": 11,
   "metadata": {},
   "outputs": [],
   "source": [
    "def query_api(url):\n",
    "    driver.get(url)\n",
    "    raw_data_btn = WebDriverWait(driver, 10).until(\n",
    "        EC.presence_of_element_located((By.LINK_TEXT, 'Raw Data')))\n",
    "    raw_data_btn.click()\n",
    "    element = WebDriverWait(driver, 10).until(\n",
    "        EC.presence_of_element_located((By.CLASS_NAME, 'data'))\n",
    "    )\n",
    "    return element.text\n",
    "\n",
    "def query_api(url):\n",
    "    r = s.get(url)\n",
    "    if r.status_code != 200:\n",
    "        raise ValueError(f'Status code {r.status_code} for {url}')\n",
    "    \n",
    "    return r.text"
   ]
  },
  {
   "cell_type": "code",
   "execution_count": 12,
   "metadata": {},
   "outputs": [],
   "source": [
    "def get_and_save_feed_api_call(url, u_id, i):\n",
    "    s = query_api(url)\n",
    "    with open('data/raw/%s-%03i.json' % (u_id, i), 'w') as f:\n",
    "        f.write(s)\n",
    "    data = json.loads(s)\n",
    "    if 'error' in data:\n",
    "        raise ValueError('Error in API call')\n",
    "    return data"
   ]
  },
  {
   "cell_type": "code",
   "execution_count": 13,
   "metadata": {},
   "outputs": [],
   "source": [
    "def pull_down_profile(u_id, verbose=True):\n",
    "    i = 0\n",
    "    first_url = base_url + 'users/%s/feed' % u_id\n",
    "    data = get_and_save_feed_api_call(first_url, u_id, i)\n",
    "    \n",
    "    cont = True\n",
    "    \n",
    "    while ('paging' in data \n",
    "           and 'next' in data['paging'] \n",
    "           and data['paging']['next'] \n",
    "           and cont):\n",
    "        if verbose:\n",
    "            print(data['paging']['next'])\n",
    "        i += 1\n",
    "        data = get_and_save_feed_api_call(data['paging']['next'], u_id, i)\n",
    "        \n",
    "        cont = True"
   ]
  },
  {
   "cell_type": "markdown",
   "metadata": {},
   "source": [
    "## Login and set-up requests"
   ]
  },
  {
   "cell_type": "code",
   "execution_count": 14,
   "metadata": {},
   "outputs": [],
   "source": [
    "log_in()"
   ]
  },
  {
   "cell_type": "code",
   "execution_count": 15,
   "metadata": {},
   "outputs": [],
   "source": [
    "headers = {\n",
    "\"User-Agent\":\n",
    "    \"Mozilla/5.0 (Windows NT 6.3; WOW64) AppleWebKit/537.36 (KHTML, like Gecko) Chrome/44.0.2403.157 Safari/537.36\"\n",
    "}\n",
    "s = requests.session()\n",
    "s.headers.update(headers)\n",
    "\n",
    "for cookie in driver.get_cookies():\n",
    "    c = {cookie['name']: cookie['value']}\n",
    "    s.cookies.update(c)"
   ]
  },
  {
   "cell_type": "markdown",
   "metadata": {},
   "source": [
    "## Run the scraper\n",
    "\n",
    "Get the list of IDs to crawl from the database creator notebook."
   ]
  },
  {
   "cell_type": "code",
   "execution_count": 16,
   "metadata": {},
   "outputs": [],
   "source": [
    "%store -r to_crawl_ids"
   ]
  },
  {
   "cell_type": "code",
   "execution_count": 67,
   "metadata": {},
   "outputs": [
    {
     "data": {
      "text/plain": [
       "1216729"
      ]
     },
     "execution_count": 67,
     "metadata": {},
     "output_type": "execute_result"
    },
    {
     "name": "stdout",
     "output_type": "stream",
     "text": [
      "377/|/ 35%|| 377/1067 [00:45<01:24,  8.21it/s]"
     ]
    }
   ],
   "source": [
    "# run this cell only for debugging purposes if the loop terminated early\n",
    "id_num"
   ]
  },
  {
   "cell_type": "code",
   "execution_count": 443,
   "metadata": {},
   "outputs": [],
   "source": [
    "def del_profile(id_num):\n",
    "    files = glob.glob('data/raw/%i-*' % id_num)\n",
    "    for f in files:\n",
    "        os.remove(f)"
   ]
  },
  {
   "cell_type": "code",
   "execution_count": 18,
   "metadata": {},
   "outputs": [],
   "source": [
    "# delete an incomplete profile so that it can get pulled later\n",
    "# scraper avoids any accounts which already have local files\n",
    "# del_profile(123)"
   ]
  },
  {
   "cell_type": "code",
   "execution_count": 60,
   "metadata": {},
   "outputs": [
    {
     "data": {
      "text/plain": [
       "1502"
      ]
     },
     "execution_count": 60,
     "metadata": {},
     "output_type": "execute_result"
    }
   ],
   "source": [
    "len(to_crawl_ids)"
   ]
  },
  {
   "cell_type": "code",
   "execution_count": 17,
   "metadata": {},
   "outputs": [
    {
     "data": {
      "application/vnd.jupyter.widget-view+json": {
       "model_id": "7d2f4e41b59941c797b969d156c7c32c",
       "version_major": 2,
       "version_minor": 0
      },
      "text/html": [
       "<p>Failed to display Jupyter Widget of type <code>HBox</code>.</p>\n",
       "<p>\n",
       "  If you're reading this message in the Jupyter Notebook or JupyterLab Notebook, it may mean\n",
       "  that the widgets JavaScript is still loading. If this message persists, it\n",
       "  likely means that the widgets JavaScript library is either not installed or\n",
       "  not enabled. See the <a href=\"https://ipywidgets.readthedocs.io/en/stable/user_install.html\">Jupyter\n",
       "  Widgets Documentation</a> for setup instructions.\n",
       "</p>\n",
       "<p>\n",
       "  If you're reading this message in another frontend (for example, a static\n",
       "  rendering on GitHub or <a href=\"https://nbviewer.jupyter.org/\">NBViewer</a>),\n",
       "  it may mean that your frontend doesn't currently support widgets.\n",
       "</p>\n"
      ],
      "text/plain": [
       "HBox(children=(IntProgress(value=0, max=760), HTML(value='')))"
      ]
     },
     "metadata": {},
     "output_type": "display_data"
    },
    {
     "name": "stdout",
     "output_type": "stream",
     "text": [
      "\n"
     ]
    }
   ],
   "source": [
    "for id_num in tqdm(to_crawl_ids):\n",
    "    # have already crawled it\n",
    "    if glob.glob('data/raw/%i-*' % id_num):\n",
    "        continue\n",
    "    pull_down_profile(id_num, verbose=False)"
   ]
  },
  {
   "cell_type": "markdown",
   "metadata": {},
   "source": []
  }
 ],
 "metadata": {
  "kernelspec": {
   "display_name": "Python 3",
   "language": "python",
   "name": "python3"
  },
  "language_info": {
   "codemirror_mode": {
    "name": "ipython",
    "version": 3
   },
   "file_extension": ".py",
   "mimetype": "text/x-python",
   "name": "python",
   "nbconvert_exporter": "python",
   "pygments_lexer": "ipython3",
   "version": "3.6.1"
  }
 },
 "nbformat": 4,
 "nbformat_minor": 2
}
